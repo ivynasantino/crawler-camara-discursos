{
  "nbformat": 4,
  "nbformat_minor": 0,
  "metadata": {
    "colab": {
      "name": "nlp_discursos.ipynb",
      "version": "0.3.2",
      "provenance": [],
      "collapsed_sections": [],
      "include_colab_link": true
    },
    "kernelspec": {
      "name": "python3",
      "display_name": "Python 3"
    }
  },
  "cells": [
    {
      "cell_type": "markdown",
      "metadata": {
        "id": "view-in-github",
        "colab_type": "text"
      },
      "source": [
        "<a href=\"https://colab.research.google.com/github/ivynasantino/extrator-camara-discursos/blob/master/nlp/nlp_discursos.ipynb\" target=\"_parent\"><img src=\"https://colab.research.google.com/assets/colab-badge.svg\" alt=\"Open In Colab\"/></a>"
      ]
    },
    {
      "cell_type": "markdown",
      "metadata": {
        "id": "RcexU4b0lsiX",
        "colab_type": "text"
      },
      "source": [
        "## Processamento de linguagem natural aplicada à análise de discursos de deputados\n",
        "\n",
        "Contexto: \n",
        "- Contextualização\n",
        "- Objetivo da pesquisa\n",
        "- Dados utilizados: Reunião da CCJC da PEC 06/2019 - Reforma da previdência\n",
        "- Onde se encontra o dado: \n",
        "- Ferramentas utilizadas:\n",
        "- Algoritmos utilizados:"
      ]
    },
    {
      "cell_type": "code",
      "metadata": {
        "id": "mmkKuw5Llm68",
        "colab_type": "code",
        "colab": {},
        "cellView": "form"
      },
      "source": [
        "# @title Imports\n",
        "import pandas as pd\n",
        "import numpy as np\n",
        " \n",
        "import gensim \n",
        "import nltk\n",
        "nltk.download('punkt')"
      ],
      "execution_count": 0,
      "outputs": []
    },
    {
      "cell_type": "markdown",
      "metadata": {
        "id": "yStvIoiOnixZ",
        "colab_type": "text"
      },
      "source": [
        "### Base de dados"
      ]
    },
    {
      "cell_type": "code",
      "metadata": {
        "id": "SN5WI7p_noYM",
        "colab_type": "code",
        "colab": {},
        "cellView": "form"
      },
      "source": [
        "# @title Dataframe de discursos\n",
        "url = \"https://raw.githubusercontent.com/ivynasantino/extrator-camara-discursos/master/processamento-analise-dados/data/ccjc_reuniao-16-04-2019_10h.csv\"\n",
        "discursos = pd.read_csv(url)"
      ],
      "execution_count": 0,
      "outputs": []
    },
    {
      "cell_type": "code",
      "metadata": {
        "id": "Nf0Y7eGWoc_E",
        "colab_type": "code",
        "colab": {}
      },
      "source": [
        "discursos"
      ],
      "execution_count": 0,
      "outputs": []
    },
    {
      "cell_type": "markdown",
      "metadata": {
        "id": "wEruygQGo77V",
        "colab_type": "text"
      },
      "source": [
        "### Processamento dos dados\n",
        "\n",
        "- Remover stopwords\n",
        "- Remover caractere \"+\""
      ]
    },
    {
      "cell_type": "markdown",
      "metadata": {
        "id": "yzu6kOM-pvY1",
        "colab_type": "text"
      },
      "source": [
        "### Análises e construção dos docs\n",
        "\n",
        "- Top 10 das palavras mais citadas\n",
        "- Análise de similaridade de discursos\n",
        "- Análise de tendência nos discursos para termos como: reforma, previdência, ruim, bom, bolsonaro, lula livre"
      ]
    },
    {
      "cell_type": "markdown",
      "metadata": {
        "id": "PFVkVDDnqYvv",
        "colab_type": "text"
      },
      "source": [
        "### Visualização\n",
        "\n",
        "- Grupos de deputados que falam similar\n",
        "- Tendência de um discurso para termo X"
      ]
    }
  ]
}